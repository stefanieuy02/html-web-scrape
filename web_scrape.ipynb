{
 "cells": [
  {
   "cell_type": "code",
   "execution_count": 14,
   "metadata": {},
   "outputs": [],
   "source": [
    "from bs4 import BeautifulSoup\n",
    "import requests\n",
    "import pandas as pd\n",
    "import re"
   ]
  },
  {
   "cell_type": "code",
   "execution_count": 24,
   "metadata": {},
   "outputs": [],
   "source": [
    "#scrape html data using BeautifulSoup\n",
    "def scrape_data(url):\n",
    "    \n",
    "    response = requests.get(url)\n",
    "    soup = BeautifulSoup(response.text,\n",
    "                        'lxml')\n",
    "\n",
    "    #saves 'taux d'interet' table as a dictionary\n",
    "    table = soup.find_all('div', {'class': 'taux_interet clear'})\n",
    "    \n",
    "    data = []\n",
    "    \n",
    "    #loops through table for value and title\n",
    "    for value in table:\n",
    "        item = {}\n",
    "        \n",
    "        #creates a dictionary with title as the key and % as the value\n",
    "        item[value.find('span', {'class': 'type'}).text] = value.find('span', {'class': 'valeur'}).text.strip('\\xa0%')\n",
    "        \n",
    "        data.append(item)\n",
    "    \n",
    "    return data"
   ]
  },
  {
   "cell_type": "code",
   "execution_count": 23,
   "metadata": {},
   "outputs": [],
   "source": [
    "#converts list of dictionaries to csv\n",
    "def export_data(data):\n",
    "    \n",
    "    percent = []\n",
    "    desc = []\n",
    "    \n",
    "    #loops through the list of dics and appends the value and description to their own respective lists\n",
    "    \n",
    "    for value in data:\n",
    "        desc.append(list(value.keys()))\n",
    "        percent.append(list(value.values()))\n",
    "        \n",
    "    #gets rid of list inside list\n",
    "    desc = [elem[0] for elem in desc]\n",
    "    \n",
    "    df = pd.DataFrame(percent)\n",
    "    \n",
    "    #turns desc into a series\n",
    "    df_index = pd.Series(desc)\n",
    "    \n",
    "    #set desc as the index\n",
    "    df.set_index(df_index, inplace =True)\n",
    "    \n",
    "    #Names dataframe\n",
    "    df = df.rename(columns={ df.columns[0]: \"Taux d'intérêt\" })\n",
    "    \n",
    "    return df"
   ]
  },
  {
   "cell_type": "code",
   "execution_count": 25,
   "metadata": {},
   "outputs": [],
   "source": [
    "if __name__ == '__main__':\n",
    "    data = scrape_data('https://www.beac.int/')\n",
    "    export_data(data)"
   ]
  }
 ],
 "metadata": {
  "kernelspec": {
   "display_name": "Python 3",
   "language": "python",
   "name": "python3"
  },
  "language_info": {
   "codemirror_mode": {
    "name": "ipython",
    "version": 3
   },
   "file_extension": ".py",
   "mimetype": "text/x-python",
   "name": "python",
   "nbconvert_exporter": "python",
   "pygments_lexer": "ipython3",
   "version": "3.8.5"
  }
 },
 "nbformat": 4,
 "nbformat_minor": 4
}
