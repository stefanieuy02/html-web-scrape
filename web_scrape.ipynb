{
 "cells": [
  {
   "cell_type": "code",
   "execution_count": 28,
   "metadata": {},
   "outputs": [],
   "source": [
    "from bs4 import BeautifulSoup\n",
    "import requests\n",
    "import pandas as pd\n",
    "import re"
   ]
  },
  {
   "cell_type": "code",
   "execution_count": 27,
   "metadata": {},
   "outputs": [],
   "source": [
    "#scrape html data using BeautifulSoup\n",
    "def scrape_data(url):\n",
    "    \n",
    "    response = requests.get(url)\n",
    "    soup = BeautifulSoup(response.text,\n",
    "                        'lxml')\n",
    "\n",
    "    #saves 'taux d'interet' table as a dictionary\n",
    "    table = soup.find_all('div', {'class': 'taux_interet clear'})\n",
    "    \n",
    "    data = []\n",
    "    \n",
    "    #loops through table for value and title\n",
    "    for value in table:\n",
    "        item = {}\n",
    "        \n",
    "        #creates a dictionary with title as the key and % as the value\n",
    "        item[value.find('span', {'class': 'type'}).text] = value.find('span', {'class': 'valeur'}).text.strip('\\xa0%')\n",
    "        \n",
    "        data.append(item)\n",
    "    \n",
    "    return data"
   ]
  },
  {
   "cell_type": "code",
   "execution_count": 30,
   "metadata": {},
   "outputs": [],
   "source": [
    "#converts list of dictionaries to a dataframe\n",
    "def export_data(data):\n",
    "    \n",
    "    percent = []\n",
    "    desc = []\n",
    "    \n",
    "    #loops through the list of dics and appends the value and description to their own respective lists\n",
    "    \n",
    "    for value in data:\n",
    "        desc.append(list(value.keys()))\n",
    "        percent.append(list(value.values()))\n",
    "        \n",
    "    #gets rid of list inside list\n",
    "    desc = [elem[0] for elem in desc]\n",
    "    \n",
    "    df = pd.DataFrame(percent)\n",
    "    \n",
    "    #turns desc into a series\n",
    "    df_index = pd.Series(desc)\n",
    "    \n",
    "    #set desc as the index\n",
    "    df.set_index(df_index, inplace =True)\n",
    "    \n",
    "    #Names dataframe\n",
    "    df = df.rename(columns={ df.columns[0]: \"Taux d'intérêt\" })\n",
    "    \n",
    "    return df"
   ]
  },
  {
   "cell_type": "code",
   "execution_count": 31,
   "metadata": {},
   "outputs": [],
   "source": [
    "if __name__ == '__main__':\n",
    "    data = scrape_data('https://www.beac.int/')\n",
    "    df = export_data(data)"
   ]
  },
  {
   "cell_type": "code",
   "execution_count": 32,
   "metadata": {},
   "outputs": [
    {
     "data": {
      "text/html": [
       "<div>\n",
       "<style scoped>\n",
       "    .dataframe tbody tr th:only-of-type {\n",
       "        vertical-align: middle;\n",
       "    }\n",
       "\n",
       "    .dataframe tbody tr th {\n",
       "        vertical-align: top;\n",
       "    }\n",
       "\n",
       "    .dataframe thead th {\n",
       "        text-align: right;\n",
       "    }\n",
       "</style>\n",
       "<table border=\"1\" class=\"dataframe\">\n",
       "  <thead>\n",
       "    <tr style=\"text-align: right;\">\n",
       "      <th></th>\n",
       "      <th>Taux d'intérêt</th>\n",
       "    </tr>\n",
       "  </thead>\n",
       "  <tbody>\n",
       "    <tr>\n",
       "      <th>Taux d'intérêt des appels d'offres</th>\n",
       "      <td>4.00</td>\n",
       "    </tr>\n",
       "    <tr>\n",
       "      <th>Taux de facilité de prêt marginal</th>\n",
       "      <td>5.75</td>\n",
       "    </tr>\n",
       "    <tr>\n",
       "      <th>Taux de facilité de dépôt</th>\n",
       "      <td>0.00</td>\n",
       "    </tr>\n",
       "  </tbody>\n",
       "</table>\n",
       "</div>"
      ],
      "text/plain": [
       "                                   Taux d'intérêt\n",
       "Taux d'intérêt des appels d'offres           4.00\n",
       "Taux de facilité de prêt marginal            5.75\n",
       "Taux de facilité de dépôt                    0.00"
      ]
     },
     "execution_count": 32,
     "metadata": {},
     "output_type": "execute_result"
    }
   ],
   "source": [
    "df"
   ]
  }
 ],
 "metadata": {
  "kernelspec": {
   "display_name": "Python 3",
   "language": "python",
   "name": "python3"
  },
  "language_info": {
   "codemirror_mode": {
    "name": "ipython",
    "version": 3
   },
   "file_extension": ".py",
   "mimetype": "text/x-python",
   "name": "python",
   "nbconvert_exporter": "python",
   "pygments_lexer": "ipython3",
   "version": "3.8.5"
  }
 },
 "nbformat": 4,
 "nbformat_minor": 4
}
